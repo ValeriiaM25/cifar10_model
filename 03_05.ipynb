{
 "cells": [
  {
   "cell_type": "code",
   "execution_count": 3,
   "metadata": {},
   "outputs": [],
   "source": [
    "import numpy as np\n",
    "from keras import models\n",
    "from keras import layers\n",
    "from keras.datasets import cifar10\n",
    "from keras.utils.np_utils import to_categorical\n",
    "from sklearn.model_selection import train_test_split\n",
    "import matplotlib.pyplot as plt"
   ]
  },
  {
   "cell_type": "code",
   "execution_count": 8,
   "metadata": {},
   "outputs": [],
   "source": [
    "(train_data, train_labels), (test_data, test_labels) = cifar10.load_data()\n",
    "train_data_2, val_data, train_labels_2, val_labels = train_test_split(train_data, train_labels, test_size=0.2)"
   ]
  },
  {
   "cell_type": "code",
   "execution_count": 9,
   "metadata": {},
   "outputs": [
    {
     "name": "stdout",
     "output_type": "stream",
     "text": [
      "(50000, 1)\n",
      "40000\n",
      "10000\n",
      "10000\n",
      "40000\n",
      "10000\n",
      "10000\n"
     ]
    }
   ],
   "source": [
    "print(train_labels.shape)\n",
    "print(len(train_data_2))\n",
    "print(len(val_data))\n",
    "print(len(test_data))\n",
    "print(len(train_labels_2))\n",
    "print(len(val_labels))\n",
    "print(len(test_labels))"
   ]
  },
  {
   "cell_type": "code",
   "execution_count": 10,
   "metadata": {},
   "outputs": [
    {
     "data": {
      "text/plain": [
       "array([[[ 55,  19,   7],\n",
       "        [ 62,  26,  14],\n",
       "        [ 71,  35,  23],\n",
       "        ...,\n",
       "        [ 75,  17,   4],\n",
       "        [ 70,  13,   1],\n",
       "        [ 71,  14,   3]],\n",
       "\n",
       "       [[ 59,  21,   8],\n",
       "        [ 63,  25,  11],\n",
       "        [ 70,  32,  19],\n",
       "        ...,\n",
       "        [ 81,  17,   4],\n",
       "        [ 78,  14,   2],\n",
       "        [ 80,  16,   5]],\n",
       "\n",
       "       [[ 62,  23,   8],\n",
       "        [ 61,  22,   7],\n",
       "        [ 70,  31,  16],\n",
       "        ...,\n",
       "        [ 83,  14,   3],\n",
       "        [ 82,  13,   3],\n",
       "        [ 81,  13,   3]],\n",
       "\n",
       "       ...,\n",
       "\n",
       "       [[142,  54,  10],\n",
       "        [124,  43,  12],\n",
       "        [118,  38,  12],\n",
       "        ...,\n",
       "        [154,  45,   6],\n",
       "        [146,  41,   5],\n",
       "        [138,  36,   3]],\n",
       "\n",
       "       [[149,  61,  13],\n",
       "        [131,  48,  13],\n",
       "        [130,  48,  14],\n",
       "        ...,\n",
       "        [153,  46,   7],\n",
       "        [146,  40,   1],\n",
       "        [149,  43,   5]],\n",
       "\n",
       "       [[143,  56,  10],\n",
       "        [123,  40,   5],\n",
       "        [126,  43,   6],\n",
       "        ...,\n",
       "        [147,  44,   7],\n",
       "        [148,  43,   3],\n",
       "        [165,  58,  13]]], dtype=uint8)"
      ]
     },
     "execution_count": 10,
     "metadata": {},
     "output_type": "execute_result"
    }
   ],
   "source": [
    "train_data_2[0]"
   ]
  },
  {
   "cell_type": "code",
   "execution_count": 11,
   "metadata": {},
   "outputs": [
    {
     "data": {
      "text/plain": [
       "array([[5],\n",
       "       [0],\n",
       "       [9],\n",
       "       [3],\n",
       "       [1]], dtype=uint8)"
      ]
     },
     "execution_count": 11,
     "metadata": {},
     "output_type": "execute_result"
    }
   ],
   "source": [
    "train_labels_2[:5]"
   ]
  },
  {
   "cell_type": "code",
   "execution_count": 12,
   "metadata": {},
   "outputs": [
    {
     "data": {
      "text/plain": [
       "array([5, 0, 9, ..., 1, 2, 7], dtype=uint8)"
      ]
     },
     "execution_count": 12,
     "metadata": {},
     "output_type": "execute_result"
    }
   ],
   "source": [
    "train_labels_2 = train_labels_2.reshape(-1,)\n",
    "train_labels_2"
   ]
  },
  {
   "cell_type": "code",
   "execution_count": 13,
   "metadata": {},
   "outputs": [],
   "source": [
    "classes = ['airplane', 'automobile', 'bird', 'cat', 'deer', 'dog', 'frog', 'horse', 'ship', 'truck']"
   ]
  },
  {
   "cell_type": "code",
   "execution_count": 16,
   "metadata": {},
   "outputs": [],
   "source": [
    "def plot_img(X, y, index): \n",
    "    plt.figure(figsize = (3,3))\n",
    "    plt.imshow(train_data_2[index])\n",
    "    plt.xlabel(classes[y[index]])\n",
    "    plt.show()"
   ]
  },
  {
   "cell_type": "code",
   "execution_count": 19,
   "metadata": {},
   "outputs": [
    {
     "data": {
      "image/png": "[encoded data removed]",
      "text/plain": [
       "<Figure size 216x216 with 1 Axes>"
      ]
     },
     "metadata": {
      "needs_background": "light"
     },
     "output_type": "display_data"
    }
   ],
   "source": [
    "plot_img(train_data_2, train_labels_2, 0)"
   ]
  },
  {
   "cell_type": "code",
   "execution_count": 20,
   "metadata": {},
   "outputs": [],
   "source": [
    "train_data_2 = train_data_2 / 255\n",
    "test_data = test_data / 255\n",
    "val_dat = val_data / 255"
   ]
  },
  {
   "cell_type": "code",
   "execution_count": 21,
   "metadata": {},
   "outputs": [],
   "source": [
    "network = models.Sequential()\n",
    "network.add(layers.Flatten(input_shape=(32,32,3)))\n",
    "network.add(layers.Dense(64, activation='relu'))\n",
    "network.add(layers.Dense(64, activation='relu'))\n",
    "network.add(layers.Dense(10, activation='softmax'))\n"
   ]
  },
  {
   "cell_type": "code",
   "execution_count": 22,
   "metadata": {},
   "outputs": [],
   "source": [
    "network.compile(optimizer='rmsprop', loss='categorical_crossentropy', metrics=['accuracy'])"
   ]
  },
  {
   "cell_type": "code",
   "execution_count": 23,
   "metadata": {},
   "outputs": [
    {
     "data": {
      "text/plain": [
       "array([0., 0., 0., 1., 0., 0., 0., 0., 0., 0.], dtype=float32)"
      ]
     },
     "execution_count": 23,
     "metadata": {},
     "output_type": "execute_result"
    }
   ],
   "source": [
    "train_labels_2 = to_categorical(train_labels_2)\n",
    "test_labels = to_categorical(test_labels)\n",
    "val_labels = to_categorical(val_labels)\n",
    "test_labels[0]"
   ]
  },
  {
   "cell_type": "code",
   "execution_count": 24,
   "metadata": {},
   "outputs": [
    {
     "name": "stdout",
     "output_type": "stream",
     "text": [
      "Epoch 1/20\n",
      "1250/1250 [==============================] - 3s 2ms/step - loss: 1.9660 - accuracy: 0.2900\n",
      "Epoch 2/20\n",
      "1250/1250 [==============================] - 3s 2ms/step - loss: 1.7809 - accuracy: 0.3644\n",
      "Epoch 3/20\n",
      "1250/1250 [==============================] - 3s 2ms/step - loss: 1.7168 - accuracy: 0.3877\n",
      "Epoch 4/20\n",
      "1250/1250 [==============================] - 3s 2ms/step - loss: 1.6801 - accuracy: 0.4042\n",
      "Epoch 5/20\n",
      "1250/1250 [==============================] - 3s 2ms/step - loss: 1.6471 - accuracy: 0.4169\n",
      "Epoch 6/20\n",
      "1250/1250 [==============================] - 3s 2ms/step - loss: 1.6203 - accuracy: 0.4242\n",
      "Epoch 7/20\n",
      "1250/1250 [==============================] - 3s 2ms/step - loss: 1.6018 - accuracy: 0.4281\n",
      "Epoch 8/20\n",
      "1250/1250 [==============================] - 3s 2ms/step - loss: 1.5864 - accuracy: 0.4343\n",
      "Epoch 9/20\n",
      "1250/1250 [==============================] - 3s 2ms/step - loss: 1.5738 - accuracy: 0.4419\n",
      "Epoch 10/20\n",
      "1250/1250 [==============================] - 3s 3ms/step - loss: 1.5667 - accuracy: 0.4441\n",
      "Epoch 11/20\n",
      "1250/1250 [==============================] - 3s 2ms/step - loss: 1.5537 - accuracy: 0.4511\n",
      "Epoch 12/20\n",
      "1250/1250 [==============================] - 3s 2ms/step - loss: 1.5465 - accuracy: 0.4493\n",
      "Epoch 13/20\n",
      "1250/1250 [==============================] - 5s 4ms/step - loss: 1.5402 - accuracy: 0.4532\n",
      "Epoch 14/20\n",
      "1250/1250 [==============================] - 2s 2ms/step - loss: 1.5347 - accuracy: 0.4576\n",
      "Epoch 15/20\n",
      "1250/1250 [==============================] - 3s 2ms/step - loss: 1.5323 - accuracy: 0.4563\n",
      "Epoch 16/20\n",
      "1250/1250 [==============================] - 2s 2ms/step - loss: 1.5278 - accuracy: 0.4570\n",
      "Epoch 17/20\n",
      "1250/1250 [==============================] - 3s 2ms/step - loss: 1.5255 - accuracy: 0.4618\n",
      "Epoch 18/20\n",
      "1250/1250 [==============================] - 3s 2ms/step - loss: 1.5262 - accuracy: 0.4594\n",
      "Epoch 19/20\n",
      "1250/1250 [==============================] - 3s 2ms/step - loss: 1.5210 - accuracy: 0.4613\n",
      "Epoch 20/20\n",
      "1250/1250 [==============================] - 3s 2ms/step - loss: 1.5210 - accuracy: 0.4595\n"
     ]
    },
    {
     "data": {
      "text/plain": [
       "<keras.callbacks.History at 0x2d103fe4130>"
      ]
     },
     "execution_count": 24,
     "metadata": {},
     "output_type": "execute_result"
    }
   ],
   "source": [
    "network.fit(train_data_2, train_labels_2, epochs=20)"
   ]
  },
  {
   "cell_type": "code",
   "execution_count": 25,
   "metadata": {},
   "outputs": [
    {
     "name": "stdout",
     "output_type": "stream",
     "text": [
      "313/313 - 0s - loss: 296.3037 - accuracy: 0.3643 - 393ms/epoch - 1ms/step\n",
      "\n",
      "Test accuracy: 0.364300012588501\n"
     ]
    }
   ],
   "source": [
    "test_loss, test_acc = network.evaluate(val_data,  val_labels, verbose=2)\n",
    "\n",
    "print('\\nTest accuracy:', test_acc)"
   ]
  },
  {
   "cell_type": "code",
   "execution_count": null,
   "metadata": {},
   "outputs": [],
   "source": []
  }
 ],
 "metadata": {
  "interpreter": {
   "hash": "369f2c481f4da34e4445cda3fffd2e751bd1c4d706f27375911949ba6bb62e1c"
  },
  "kernelspec": {
   "display_name": "Python 3.10.2 64-bit",
   "language": "python",
   "name": "python3"
  },
  "language_info": {
   "codemirror_mode": {
    "name": "ipython",
    "version": 3
   },
   "file_extension": ".py",
   "mimetype": "text/x-python",
   "name": "python",
   "nbconvert_exporter": "python",
   "pygments_lexer": "ipython3",
   "version": "3.10.2"
  },
  "orig_nbformat": 4
 },
 "nbformat": 4,
 "nbformat_minor": 2
}
