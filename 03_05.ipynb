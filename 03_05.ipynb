{
 "cells": [
  {
   "cell_type": "code",
   "execution_count": 1,
   "metadata": {},
   "outputs": [],
   "source": [
    "import numpy as np\n",
    "from keras import models\n",
    "from keras import layers\n",
    "from keras.datasets import cifar10\n",
    "from keras.utils.np_utils import to_categorical\n",
    "from sklearn.model_selection import train_test_split\n",
    "import matplotlib.pyplot as plt"
   ]
  },
  {
   "cell_type": "code",
   "execution_count": 2,
   "metadata": {},
   "outputs": [],
   "source": [
    "(train_data, train_labels), (test_data, test_labels) = cifar10.load_data()\n",
    "train_data_2, val_data, train_labels_2, val_labels = train_test_split(train_data, train_labels, test_size=0.2)"
   ]
  },
  {
   "cell_type": "code",
   "execution_count": 3,
   "metadata": {},
   "outputs": [
    {
     "name": "stdout",
     "output_type": "stream",
     "text": [
      "(50000, 1)\n",
      "40000\n",
      "10000\n",
      "10000\n",
      "40000\n",
      "10000\n",
      "10000\n"
     ]
    }
   ],
   "source": [
    "print(train_labels.shape)\n",
    "print(len(train_data_2))\n",
    "print(len(val_data))\n",
    "print(len(test_data))\n",
    "print(len(train_labels_2))\n",
    "print(len(val_labels))\n",
    "print(len(test_labels))"
   ]
  },
  {
   "cell_type": "code",
   "execution_count": 4,
   "metadata": {},
   "outputs": [
    {
     "data": {
      "text/plain": [
       "array([[[142,  99,  61],\n",
       "        [137,  96,  61],\n",
       "        [136,  98,  65],\n",
       "        ...,\n",
       "        [124,  91,  63],\n",
       "        [139, 104,  77],\n",
       "        [143, 105,  80]],\n",
       "\n",
       "       [[153, 103,  69],\n",
       "        [139,  98,  63],\n",
       "        [138, 103,  70],\n",
       "        ...,\n",
       "        [109,  78,  52],\n",
       "        [125,  91,  66],\n",
       "        [141, 105,  81]],\n",
       "\n",
       "       [[148,  99,  64],\n",
       "        [141, 100,  65],\n",
       "        [133,  97,  65],\n",
       "        ...,\n",
       "        [106,  76,  54],\n",
       "        [106,  75,  53],\n",
       "        [132,  98,  76]],\n",
       "\n",
       "       ...,\n",
       "\n",
       "       [[127,  94,  73],\n",
       "        [154, 116,  94],\n",
       "        [148, 112,  89],\n",
       "        ...,\n",
       "        [224, 242, 247],\n",
       "        [228, 244, 246],\n",
       "        [237, 249, 250]],\n",
       "\n",
       "       [[132,  97,  73],\n",
       "        [158, 117,  92],\n",
       "        [151, 112,  89],\n",
       "        ...,\n",
       "        [225, 242, 247],\n",
       "        [231, 247, 249],\n",
       "        [237, 250, 251]],\n",
       "\n",
       "       [[129,  91,  71],\n",
       "        [153, 117,  93],\n",
       "        [156, 121,  97],\n",
       "        ...,\n",
       "        [229, 243, 249],\n",
       "        [232, 248, 251],\n",
       "        [239, 250, 252]]], dtype=uint8)"
      ]
     },
     "execution_count": 4,
     "metadata": {},
     "output_type": "execute_result"
    }
   ],
   "source": [
    "train_data_2[0]"
   ]
  },
  {
   "cell_type": "code",
   "execution_count": 5,
   "metadata": {},
   "outputs": [
    {
     "data": {
      "text/plain": [
       "array([[2],\n",
       "       [9],\n",
       "       [9],\n",
       "       [4],\n",
       "       [3]], dtype=uint8)"
      ]
     },
     "execution_count": 5,
     "metadata": {},
     "output_type": "execute_result"
    }
   ],
   "source": [
    "train_labels_2[:5]"
   ]
  },
  {
   "cell_type": "code",
   "execution_count": 6,
   "metadata": {},
   "outputs": [
    {
     "data": {
      "text/plain": [
       "array([2, 9, 9, ..., 4, 0, 3], dtype=uint8)"
      ]
     },
     "execution_count": 6,
     "metadata": {},
     "output_type": "execute_result"
    }
   ],
   "source": [
    "train_labels_2 = train_labels_2.reshape(-1,)\n",
    "train_labels_2"
   ]
  },
  {
   "cell_type": "code",
   "execution_count": 7,
   "metadata": {},
   "outputs": [],
   "source": [
    "classes = ['airplane', 'automobile', 'bird', 'cat', 'deer', 'dog', 'frog', 'horse', 'ship', 'truck']"
   ]
  },
  {
   "cell_type": "code",
   "execution_count": 8,
   "metadata": {},
   "outputs": [],
   "source": [
    "def plot_img(X, y, index): \n",
    "    plt.figure(figsize = (3,3))\n",
    "    plt.imshow(train_data_2[index])\n",
    "    plt.xlabel(classes[y[index]])\n",
    "    plt.show()"
   ]
  },
  {
   "cell_type": "code",
   "execution_count": 9,
   "metadata": {},
   "outputs": [
    {
     "data": {
      "image/png": "[encoded data removed]",
      "text/plain": [
       "<Figure size 216x216 with 1 Axes>"
      ]
     },
     "metadata": {
      "needs_background": "light"
     },
     "output_type": "display_data"
    }
   ],
   "source": [
    "plot_img(train_data_2, train_labels_2, 0)"
   ]
  },
  {
   "cell_type": "code",
   "execution_count": 10,
   "metadata": {},
   "outputs": [],
   "source": [
    "train_data_2 = train_data_2 / 255\n",
    "test_data = test_data / 255\n",
    "val_dat = val_data / 255"
   ]
  },
  {
   "cell_type": "code",
   "execution_count": 11,
   "metadata": {},
   "outputs": [],
   "source": [
    "network = models.Sequential()\n",
    "network.add(layers.Flatten(input_shape=(32,32,3)))\n",
    "network.add(layers.Dense(64, activation='relu'))\n",
    "network.add(layers.Dense(64, activation='relu'))\n",
    "network.add(layers.Dense(10, activation='softmax'))\n"
   ]
  },
  {
   "cell_type": "code",
   "execution_count": 12,
   "metadata": {},
   "outputs": [],
   "source": [
    "network.compile(optimizer='rmsprop', loss='categorical_crossentropy', metrics=['accuracy'])"
   ]
  },
  {
   "cell_type": "code",
   "execution_count": 13,
   "metadata": {},
   "outputs": [
    {
     "data": {
      "text/plain": [
       "array([0., 0., 0., 1., 0., 0., 0., 0., 0., 0.], dtype=float32)"
      ]
     },
     "execution_count": 13,
     "metadata": {},
     "output_type": "execute_result"
    }
   ],
   "source": [
    "train_labels_2 = to_categorical(train_labels_2)\n",
    "test_labels = to_categorical(test_labels)\n",
    "val_labels = to_categorical(val_labels)\n",
    "test_labels[0]"
   ]
  },
  {
   "cell_type": "code",
   "execution_count": 14,
   "metadata": {},
   "outputs": [
    {
     "name": "stdout",
     "output_type": "stream",
     "text": [
      "Epoch 1/20\n",
      "1250/1250 [==============================] - 3s 2ms/step - loss: 1.9460 - accuracy: 0.2936\n",
      "Epoch 2/20\n",
      "1250/1250 [==============================] - 3s 2ms/step - loss: 1.7781 - accuracy: 0.3638\n",
      "Epoch 3/20\n",
      "1250/1250 [==============================] - 3s 2ms/step - loss: 1.7170 - accuracy: 0.3893\n",
      "Epoch 4/20\n",
      "1250/1250 [==============================] - 3s 2ms/step - loss: 1.6818 - accuracy: 0.4015\n",
      "Epoch 5/20\n",
      "1250/1250 [==============================] - 3s 2ms/step - loss: 1.6592 - accuracy: 0.4082\n",
      "Epoch 6/20\n",
      "1250/1250 [==============================] - 3s 2ms/step - loss: 1.6427 - accuracy: 0.4156\n",
      "Epoch 7/20\n",
      "1250/1250 [==============================] - 3s 2ms/step - loss: 1.6269 - accuracy: 0.4220\n",
      "Epoch 8/20\n",
      "1250/1250 [==============================] - 3s 2ms/step - loss: 1.6136 - accuracy: 0.4253\n",
      "Epoch 9/20\n",
      "1250/1250 [==============================] - 3s 2ms/step - loss: 1.5994 - accuracy: 0.4338\n",
      "Epoch 10/20\n",
      "1250/1250 [==============================] - 3s 2ms/step - loss: 1.5897 - accuracy: 0.4335\n",
      "Epoch 11/20\n",
      "1250/1250 [==============================] - 3s 2ms/step - loss: 1.5796 - accuracy: 0.4385\n",
      "Epoch 12/20\n",
      "1250/1250 [==============================] - 3s 2ms/step - loss: 1.5744 - accuracy: 0.4405\n",
      "Epoch 13/20\n",
      "1250/1250 [==============================] - 4s 3ms/step - loss: 1.5653 - accuracy: 0.4445\n",
      "Epoch 14/20\n",
      "1250/1250 [==============================] - 3s 2ms/step - loss: 1.5607 - accuracy: 0.4463\n",
      "Epoch 15/20\n",
      "1250/1250 [==============================] - 3s 2ms/step - loss: 1.5571 - accuracy: 0.4430\n",
      "Epoch 16/20\n",
      "1250/1250 [==============================] - 3s 2ms/step - loss: 1.5504 - accuracy: 0.4471\n",
      "Epoch 17/20\n",
      "1250/1250 [==============================] - 3s 2ms/step - loss: 1.5443 - accuracy: 0.4502\n",
      "Epoch 18/20\n",
      "1250/1250 [==============================] - 3s 2ms/step - loss: 1.5402 - accuracy: 0.4530\n",
      "Epoch 19/20\n",
      "1250/1250 [==============================] - 3s 2ms/step - loss: 1.5385 - accuracy: 0.4539\n",
      "Epoch 20/20\n",
      "1250/1250 [==============================] - 3s 3ms/step - loss: 1.5335 - accuracy: 0.4536\n"
     ]
    },
    {
     "data": {
      "text/plain": [
       "<keras.callbacks.History at 0x1f94f5a5960>"
      ]
     },
     "execution_count": 14,
     "metadata": {},
     "output_type": "execute_result"
    }
   ],
   "source": [
    "network.fit(train_data_2, train_labels_2, epochs=20)"
   ]
  },
  {
   "cell_type": "code",
   "execution_count": 15,
   "metadata": {},
   "outputs": [
    {
     "name": "stdout",
     "output_type": "stream",
     "text": [
      "313/313 - 0s - loss: 369.1311 - accuracy: 0.3117 - 412ms/epoch - 1ms/step\n",
      "\n",
      "Test accuracy: 0.3116999864578247\n"
     ]
    }
   ],
   "source": [
    "test_loss, test_acc = network.evaluate(val_data,  val_labels, verbose=2)\n",
    "\n",
    "print('\\nTest accuracy:', test_acc)"
   ]
  },
  {
   "cell_type": "code",
   "execution_count": null,
   "metadata": {},
   "outputs": [],
   "source": []
  }
 ],
 "metadata": {
  "interpreter": {
   "hash": "369f2c481f4da34e4445cda3fffd2e751bd1c4d706f27375911949ba6bb62e1c"
  },
  "kernelspec": {
   "display_name": "Python 3.10.2 64-bit",
   "language": "python",
   "name": "python3"
  },
  "language_info": {
   "codemirror_mode": {
    "name": "ipython",
    "version": 3
   },
   "file_extension": ".py",
   "mimetype": "text/x-python",
   "name": "python",
   "nbconvert_exporter": "python",
   "pygments_lexer": "ipython3",
   "version": "3.10.2"
  },
  "orig_nbformat": 4
 },
 "nbformat": 4,
 "nbformat_minor": 2
}
